{
  "nbformat": 4,
  "nbformat_minor": 0,
  "metadata": {
    "colab": {
      "provenance": []
    },
    "kernelspec": {
      "name": "python3",
      "display_name": "Python 3"
    },
    "language_info": {
      "name": "python"
    }
  },
  "cells": [
    {
      "cell_type": "markdown",
      "source": [
        "**Question 1: What is Simple Linear Regression?**\n",
        "\n",
        "ANSWER: Simple Linear Regression is a statistical method used to model the relationship between two variables: one independent variable (predictor) and one dependent variable (response). The goal is to find a linear equation that best predicts the dependent variable based on the independent variable.\n",
        "\n",
        "\n",
        "Key Concepts\n",
        "\n",
        "• \tModel Equation:\n",
        "The relationship is expressed as\n",
        "where:  \n",
        "\n",
        "\n",
        "- \\( y \\) is the dependent variable  \n",
        "\n",
        "\n",
        "- \\( x \\) is the independent variable  \n",
        "\n",
        "\n",
        "- \\( \\beta_0 \\) is the intercept  \n",
        "\n",
        "\n",
        "- \\( \\beta_1 \\) is the slope (change in \\( y \\) per unit change in \\( x \\))  \n",
        "\n",
        "\n",
        "- \\( \\varepsilon \\) is the error term (captures noise or unexplained variation)\n",
        "\n",
        "\n",
        "\n",
        "• \tAssumptions:\n",
        "\n",
        "• \tLinearity: The relationship between x and y is linear\n",
        "\n",
        "• \tIndependence: Observations are independent\n",
        "\n",
        "• \tHomoscedasticity: Constant variance of errors\n",
        "\n",
        "• \tNormality: Errors are normally distributed\n",
        "\n",
        "\n",
        "\n",
        "\n",
        "• \tObjective:\n",
        "\n",
        "Estimate \\beta_0 and \\beta_1 using methods like Ordinary Least Squares (OLS), which minimizes the sum of squared residuals.\n",
        "\n",
        "• \tUse Cases:\n",
        "\n",
        "• \tPredicting sales based on advertising spend\n",
        "\n",
        "• \tEstimating house prices based on square footage\n",
        "\n",
        "• \tForecasting demand based on temperature"
      ],
      "metadata": {
        "id": "BIXZjUGmDjeJ"
      }
    },
    {
      "cell_type": "markdown",
      "source": [
        "**Question 2: What are the key assumptions of Simple Linear Regression?**\n",
        "\n",
        "\n",
        "ANSWER: Simple Linear Regression relies on several foundational assumptions to ensure the validity of its results. Violations of these assumptions can lead to biased estimates, incorrect inferences, or misleading predictions.\n",
        "\n",
        "Key Assumptions\n",
        "\n",
        "1. \tLinearity\n",
        "\n",
        "The relationship between the independent variable x and the dependent variable y is linear. This means the expected change in y for a unit change in x is constant.\n",
        "\n",
        "\n",
        "2. \tIndependence of Errors\n",
        "\n",
        "The residuals (errors) are independent of each other. This implies that the error for one observation does not influence the error for another.\n",
        "\n",
        "\n",
        "3. \tHomoscedasticity\n",
        "\n",
        "The variance of the residuals is constant across all levels of the independent variable. In other words, the spread of errors should not increase or decrease with x.\n",
        "\n",
        "\n",
        "4. \tNormality of Errors\n",
        "\n",
        "The residuals are normally distributed. This assumption is especially important for hypothesis testing and constructing confidence intervals.\n",
        "\n",
        "\n",
        "5. \tNo Perfect Multicollinearity\n",
        "\n",
        "Although this applies more to multiple regression, in simple linear regression it translates to ensuring that the independent variable is not a constant and has variability.\n",
        "\n",
        "\n",
        "6. \tNo Autocorrelation\n",
        "\n",
        "Particularly relevant in time series data, this means that residuals should not be correlated over time.\n"
      ],
      "metadata": {
        "id": "PDH8d7rGEmd_"
      }
    },
    {
      "cell_type": "markdown",
      "source": [
        "**Question 3: What is heteroscedasticity, and why is it important to address in regression models?**\n",
        "\n",
        "\n",
        "ANSWER:  Heteroscedasticity refers to a condition in regression analysis where the variance of the residuals (errors) is not constant across all levels of the independent variable. In contrast, homoscedasticity assumes that residuals have equal variance, which is a key assumption of linear regression.\n",
        "\n",
        "\n",
        "Definition\n",
        "\n",
        "In a heteroscedastic model, the spread of residuals increases or decreases as the value of the independent variable changes. This violates the assumption of constant variance and can be visually detected in residual plots, where the residuals fan out or contract as the fitted values increase.\n",
        "\n",
        "\n",
        "Why It Matters\n",
        "\n",
        "1. \tBiased Standard Errors\n",
        "Heteroscedasticity leads to incorrect estimation of standard errors, which affects confidence intervals and hypothesis tests. This can result in misleading p-values and unreliable statistical inferences.\n",
        "\n",
        "\n",
        "2. \tInefficient Estimates\n",
        "While the coefficient estimates from Ordinary Least Squares (OLS) remain unbiased, they are no longer efficient. That means they do not have the minimum possible variance among all unbiased estimators.\n",
        "\n",
        "\n",
        "3. \tModel Misinterpretation\n",
        "If not addressed, heteroscedasticity can distort the interpretation of the model’s predictive power and the significance of predictors.\n",
        "\n",
        "\n",
        "4. \tViolation of Assumptions\n",
        "Many inferential procedures in regression rely on homoscedasticity. Violating this assumption undermines the validity of those procedures.\n",
        "\n",
        "\n",
        "\n",
        "Common Solutions\n",
        "\n",
        "• \tTransformations: Apply log or square root transformations to stabilize variance.\n",
        "\n",
        "• \tWeighted Least Squares (WLS): Assign weights inversely proportional to the variance of observations.\n",
        "\n",
        "• \tRobust Standard Errors: Use heteroscedasticity-consistent standard errors to correct inference without altering the model"
      ],
      "metadata": {
        "id": "SjlHi3GpFGmg"
      }
    },
    {
      "cell_type": "markdown",
      "source": [
        "**Question 4: What is Multiple Linear Regression?**\n",
        "\n",
        "ANSWER:  Multiple Linear Regression (MLR) is an extension of Simple Linear Regression that models the relationship between one dependent variable and two or more independent variables. It aims to quantify how each predictor contributes to the variation in the response variable, assuming a linear relationship.\n",
        "\n",
        "\n",
        "Model Equation\n",
        "\n",
        "The general form is:\n",
        "\n",
        "y = \\beta_0 + \\beta_1 x_1 + \\beta_2 x_2 + \\dots + \\beta_p x_p + \\varepsilon\n",
        "\n",
        "Where:\n",
        "• \ty is the dependent variable\n",
        "\n",
        "• \tx_1, x_2, \\dots, x_p are independent variables\n",
        "\n",
        "• \t\\beta_0 is the intercept\n",
        "\n",
        "• \t\\beta_1, \\beta_2, \\dots, \\beta_p are coefficients for each predictor\n",
        "\n",
        "• \t\\varepsilon is the error term\n",
        "Purpose\n",
        "\n",
        "MLR is used to:\n",
        "\n",
        "• \tAssess the impact of multiple factors on a single outcome\n",
        "\n",
        "• \tControl for confounding variables\n",
        "\n",
        "• \tImprove prediction accuracy compared to single-variable models\n",
        "\n",
        "Assumptions\n",
        "\n",
        "MLR shares the same assumptions as Simple Linear Regression, with added emphasis on:\n",
        "\n",
        "• \tNo multicollinearity among predictors\n",
        "\n",
        "• \tCorrect model specification (no omitted relevant variables or inclusion of irrelevant ones)\n",
        "\n",
        "Applications\n",
        "\n",
        "• \tPredicting customer lifetime value using demographics, purchase history, and engagement metrics\n",
        "\n",
        "• \tEstimating housing prices based on location, size, number of rooms, and age\n",
        "\n",
        "• \tModeling employee performance using education, experience, and training hours\n"
      ],
      "metadata": {
        "id": "Ox8ZnV59FnVg"
      }
    },
    {
      "cell_type": "markdown",
      "source": [
        "**Question 5: What is polynomial regression, and how does it differ from linear regression?**\n",
        "\n",
        "ANSWER:  Polynomial regression is a type of regression analysis used to model relationships between the independent variable x and the dependent variable y when the data exhibits a non-linear pattern. It extends linear regression by including higher-order terms of the predictor variable.\n",
        "\n",
        "\n",
        "Model Equation\n",
        "\n",
        "A polynomial regression of degree n takes the form:\n",
        "y = \\beta_0 + \\beta_1 x + \\beta_2 x^2 + \\beta_3 x^3 + \\dots + \\beta_n x^n + \\varepsilon\n",
        "\n",
        "Where:\n",
        "\n",
        "• \ty is the dependent variable\n",
        "\n",
        "• \tx is the independent variable\n",
        "\n",
        "• \t\\beta_0, \\beta_1, \\dots, \\beta_n are the coefficients\n",
        "\n",
        "• \t\\varepsilon is the error term\n",
        "\n",
        "Key Differences from Linear Regression\n",
        "\n",
        "• \tLinear Regression models a straight-line relationship between the independent and dependent variables.\n",
        "\n",
        "• \tPolynomial Regression models a curved, non-linear relationship by including higher-order terms of the independent variable.\n",
        "\n",
        "• \tThe equation for Linear Regression is: y = \\beta_0 + \\beta_1 x + \\varepsilon.\n",
        "\n",
        "• \tThe equation for Polynomial Regression is: y = \\beta_0 + \\beta_1 x + \\beta_2 x^2 + \\dots + \\varepsilon.\n",
        "\n",
        "• \tLinear Regression is limited to capturing linear trends.\n",
        "\n",
        "• \tPolynomial Regression can capture more complex patterns and curvature in the data.\n",
        "\n",
        "• \tLinear Regression has a lower risk of overfitting.\n",
        "\n",
        "• \tPolynomial Regression has a higher risk of overfitting, especially with high-degree polynomials.\n",
        "\n",
        "• \tLinear Regression is simple and easy to interpret.\n",
        "\n",
        "• \tPolynomial Regression becomes more complex and harder to interpret as the degree increases.\n",
        "\n",
        "\n",
        "\n",
        "Use Cases\n",
        "\n",
        "• \tModeling growth curves in biology or economics\n",
        "\n",
        "• \tCapturing seasonal effects in time series data\n",
        "\n",
        "• \tFitting complex patterns in engineering or physics\n",
        "\n",
        "Polynomial regression is still a linear model in terms of parameters, even though the relationship between x and y is non-linear."
      ],
      "metadata": {
        "id": "BVFAK3jxHYvW"
      }
    },
    {
      "cell_type": "markdown",
      "source": [
        "**Question 6: Implement a Python program to fit a Simple Linear Regression model to the following sample data:\n",
        "● X = [1, 2, 3, 4, 5]\n",
        "● Y = [2.1, 4.3, 6.1, 7.9, 10.2]\n",
        "Plot the regression line over the data points.**\n",
        "\n",
        "ANSWER:"
      ],
      "metadata": {
        "id": "VsYyZVtbJnLw"
      }
    },
    {
      "cell_type": "code",
      "source": [
        "import numpy as np\n",
        "import matplotlib.pyplot as plt\n",
        "from sklearn.linear_model import LinearRegression\n",
        "\n",
        "# Sample data\n",
        "X = np.array([1, 2, 3, 4, 5]).reshape(-1, 1)\n",
        "Y = np.array([2.1, 4.3, 6.1, 7.9, 10.2])\n",
        "\n",
        "# Fit the model\n",
        "model = LinearRegression()\n",
        "model.fit(X, Y)\n",
        "\n",
        "# Predict values\n",
        "Y_pred = model.predict(X)\n",
        "\n",
        "# Plot data points and regression line\n",
        "plt.scatter(X, Y, color='blue', label='Data Points')\n",
        "plt.plot(X, Y_pred, color='red', label='Regression Line')\n",
        "plt.xlabel('X')\n",
        "plt.ylabel('Y')\n",
        "plt.title('Simple Linear Regression')\n",
        "plt.legend()\n",
        "plt.grid(True)\n",
        "plt.show()"
      ],
      "metadata": {
        "colab": {
          "base_uri": "https://localhost:8080/",
          "height": 472
        },
        "id": "6W0jok6IKFcT",
        "outputId": "94799b39-a004-4a88-a31a-0b2b2f32cfbe"
      },
      "execution_count": 1,
      "outputs": [
        {
          "output_type": "display_data",
          "data": {
            "text/plain": [
              "<Figure size 640x480 with 1 Axes>"
            ],
            "image/png": "[encoded data removed]"
          },
          "metadata": {}
        }
      ]
    },
    {
      "cell_type": "markdown",
      "source": [
        "**Question 7: Fit a Multiple Linear Regression model on this sample data:\n",
        "● Area = [1200, 1500, 1800, 2000]\n",
        "● Rooms = [2, 3, 3, 4]\n",
        "● Price = [250000, 300000, 320000, 370000]\n",
        "Check for multicollinearity using VIF and report the results**\n",
        "\n",
        "ANSWER:"
      ],
      "metadata": {
        "id": "O3RsxooOKQKe"
      }
    },
    {
      "cell_type": "code",
      "source": [
        "import numpy as np\n",
        "import pandas as pd\n",
        "import statsmodels.api as sm\n",
        "from statsmodels.stats.outliers_influence import variance_inflation_factor\n",
        "\n",
        "# Sample data\n",
        "Area = [1200, 1500, 1800, 2000]\n",
        "Rooms = [2, 3, 3, 4]\n",
        "Price = [250000, 300000, 320000, 370000]\n",
        "\n",
        "# Create DataFrame\n",
        "df = pd.DataFrame({\n",
        "    'Area': Area,\n",
        "    'Rooms': Rooms,\n",
        "    'Price': Price\n",
        "})\n",
        "\n",
        "# Define predictors and response\n",
        "X = df[['Area', 'Rooms']]\n",
        "X = sm.add_constant(X)  # Add intercept\n",
        "y = df['Price']\n",
        "\n",
        "# Fit the model\n",
        "model = sm.OLS(y, X).fit()\n",
        "print(model.summary())\n",
        "\n",
        "# Calculate VIF\n",
        "vif_data = pd.DataFrame()\n",
        "vif_data['Feature'] = X.columns\n",
        "vif_data['VIF'] = [variance_inflation_factor(X.values, i) for i in range(X.shape[1])]\n",
        "print(vif_data)"
      ],
      "metadata": {
        "colab": {
          "base_uri": "https://localhost:8080/"
        },
        "id": "IaFgORAsKd8V",
        "outputId": "1eb684a6-cf4d-4b03-dd26-5c11e7be3af8"
      },
      "execution_count": 2,
      "outputs": [
        {
          "output_type": "stream",
          "name": "stdout",
          "text": [
            "                            OLS Regression Results                            \n",
            "==============================================================================\n",
            "Dep. Variable:                  Price   R-squared:                       0.999\n",
            "Model:                            OLS   Adj. R-squared:                  0.996\n",
            "Method:                 Least Squares   F-statistic:                     351.0\n",
            "Date:                Sat, 30 Aug 2025   Prob (F-statistic):             0.0377\n",
            "Time:                        13:28:17   Log-Likelihood:                -35.242\n",
            "No. Observations:                   4   AIC:                             76.48\n",
            "Df Residuals:                       1   BIC:                             74.64\n",
            "Df Model:                           2                                         \n",
            "Covariance Type:            nonrobust                                         \n",
            "==============================================================================\n",
            "                 coef    std err          t      P>|t|      [0.025      0.975]\n",
            "------------------------------------------------------------------------------\n",
            "const       1.032e+05   9488.293     10.872      0.058   -1.74e+04    2.24e+05\n",
            "Area          63.1579     14.886      4.243      0.147    -125.992     252.308\n",
            "Rooms       3.474e+04   6381.240      5.444      0.116   -4.63e+04    1.16e+05\n",
            "==============================================================================\n",
            "Omnibus:                          nan   Durbin-Watson:                   2.053\n",
            "Prob(Omnibus):                    nan   Jarque-Bera (JB):                0.554\n",
            "Skew:                          -0.154   Prob(JB):                        0.758\n",
            "Kurtosis:                       1.202   Cond. No.                     1.01e+04\n",
            "==============================================================================\n",
            "\n",
            "Notes:\n",
            "[1] Standard Errors assume that the covariance matrix of the errors is correctly specified.\n",
            "[2] The condition number is large, 1.01e+04. This might indicate that there are\n",
            "strong multicollinearity or other numerical problems.\n",
            "  Feature        VIF\n",
            "0   const  34.210526\n",
            "1    Area   7.736842\n",
            "2   Rooms   7.736842\n"
          ]
        },
        {
          "output_type": "stream",
          "name": "stderr",
          "text": [
            "/usr/local/lib/python3.12/dist-packages/statsmodels/stats/stattools.py:74: ValueWarning: omni_normtest is not valid with less than 8 observations; 4 samples were given.\n",
            "  warn(\"omni_normtest is not valid with less than 8 observations; %i \"\n"
          ]
        }
      ]
    },
    {
      "cell_type": "markdown",
      "source": [
        "**Question 8: Implement polynomial regression on the following data:\n",
        "● X = [1, 2, 3, 4, 5]\n",
        "● Y = [2.2, 4.8, 7.5, 11.2, 14.7]\n",
        "Fit a 2nd-degree polynomial and plot the resulting curve**\n",
        "\n",
        "ANSWER:\n"
      ],
      "metadata": {
        "id": "RRBzXF6VKmDf"
      }
    },
    {
      "cell_type": "code",
      "source": [
        "import numpy as np\n",
        "import matplotlib.pyplot as plt\n",
        "from sklearn.preprocessing import PolynomialFeatures\n",
        "from sklearn.linear_model import LinearRegression\n",
        "\n",
        "# Sample data\n",
        "X = np.array([1, 2, 3, 4, 5]).reshape(-1, 1)\n",
        "Y = np.array([2.2, 4.8, 7.5, 11.2, 14.7])\n",
        "\n",
        "# Transform input features to polynomial features (degree 2)\n",
        "poly = PolynomialFeatures(degree=2)\n",
        "X_poly = poly.fit_transform(X)\n",
        "\n",
        "# Fit the polynomial regression model\n",
        "model = LinearRegression()\n",
        "model.fit(X_poly, Y)\n",
        "\n",
        "# Predict values\n",
        "Y_pred = model.predict(X_poly)\n",
        "\n",
        "# Plot original data and polynomial curve\n",
        "plt.scatter(X, Y, color='blue', label='Data Points')\n",
        "plt.plot(X, Y_pred, color='red', label='Polynomial Curve (Degree 2)')\n",
        "plt.xlabel('X')\n",
        "plt.ylabel('Y')\n",
        "plt.title('2nd-Degree Polynomial Regression')\n",
        "plt.legend()\n",
        "plt.grid(True)\n",
        "plt.show()"
      ],
      "metadata": {
        "colab": {
          "base_uri": "https://localhost:8080/",
          "height": 472
        },
        "id": "mjqjGKZVKybj",
        "outputId": "8afb601b-7f92-41bd-eebd-29f4e2a61c38"
      },
      "execution_count": 3,
      "outputs": [
        {
          "output_type": "display_data",
          "data": {
            "text/plain": [
              "<Figure size 640x480 with 1 Axes>"
            ],
            "image/png": "[encoded data removed]"
          },
          "metadata": {}
        }
      ]
    },
    {
      "cell_type": "markdown",
      "source": [
        "**Question 9: Create a residuals plot for a regression model trained on this data:\n",
        "● X = [10, 20, 30, 40, 50]\n",
        "● Y = [15, 35, 40, 50, 65]\n",
        "Assess heteroscedasticity by examining the spread of residuals.**\n",
        "\n",
        "ANSWER:"
      ],
      "metadata": {
        "id": "T9slJ6ESK7AY"
      }
    },
    {
      "cell_type": "code",
      "source": [
        "import numpy as np\n",
        "import matplotlib.pyplot as plt\n",
        "from sklearn.linear_model import LinearRegression\n",
        "\n",
        "# Sample data\n",
        "X = np.array([10, 20, 30, 40, 50]).reshape(-1, 1)\n",
        "Y = np.array([15, 35, 40, 50, 65])\n",
        "\n",
        "# Fit the regression model\n",
        "model = LinearRegression()\n",
        "model.fit(X, Y)\n",
        "\n",
        "# Predict values\n",
        "Y_pred = model.predict(X)\n",
        "\n",
        "# Calculate residuals\n",
        "residuals = Y - Y_pred\n",
        "\n",
        "# Plot residuals\n",
        "plt.scatter(Y_pred, residuals, color='blue')\n",
        "plt.axhline(y=0, color='red', linestyle='--')\n",
        "plt.xlabel('Predicted Values')\n",
        "plt.ylabel('Residuals')\n",
        "plt.title('Residuals Plot')\n",
        "plt.grid(True)\n",
        "plt.show()"
      ],
      "metadata": {
        "colab": {
          "base_uri": "https://localhost:8080/",
          "height": 472
        },
        "id": "0k83ywFvLC-z",
        "outputId": "685d6063-7dc4-4bae-edda-65c53a13baf0"
      },
      "execution_count": 4,
      "outputs": [
        {
          "output_type": "display_data",
          "data": {
            "text/plain": [
              "<Figure size 640x480 with 1 Axes>"
            ],
            "image/png": "[encoded data removed]"
          },
          "metadata": {}
        }
      ]
    },
    {
      "cell_type": "markdown",
      "source": [
        "Assessment of Heteroscedasticity\n",
        "\n",
        "• \tThe residuals are plotted against the predicted values.\n",
        "\n",
        "• \tThe red dashed line at zero represents the baseline for residuals.\n",
        "\n",
        "• \tIf the residuals are randomly scattered with constant spread around this line, the model satisfies the homoscedasticity assumption.\n",
        "\n",
        "• \tIf the spread increases or decreases systematically, it suggests heteroscedasticity."
      ],
      "metadata": {
        "id": "VEgFNlAkLMxZ"
      }
    },
    {
      "cell_type": "markdown",
      "source": [
        "**Question 10: Imagine you are a data scientist working for a real estate company. You need to predict house prices using features like area, number of rooms, and location. However, you detect heteroscedasticity and multicollinearity in your regression model. Explain the steps you would take to address these issues and ensure a robust model.**\n",
        "\n",
        "\n",
        "ANSWER: 1. Addressing Heteroscedasticity\n",
        "\n",
        "Heteroscedasticity means the variance of residuals is not constant.\n",
        "\n",
        "Detect using residual vs. fitted value plots, Breusch–Pagan test, or White’s test.\n",
        "\n",
        "Solutions:\n",
        "\n",
        "Transform the dependent variable (e.g., use log(price) instead of price).\n",
        "\n",
        "Use Weighted Least Squares (WLS) if different observations have different variances.\n",
        "\n",
        "Use heteroscedasticity-consistent (robust) standard errors.\n",
        "\n",
        "2. Addressing Multicollinearity\n",
        "\n",
        "Multicollinearity means predictors are highly correlated.\n",
        "\n",
        "Detect using Variance Inflation Factor (VIF). If VIF > 5 or 10, that predictor is problematic.\n",
        "\n",
        "Solutions:\n",
        "\n",
        "Remove or combine correlated predictors.\n",
        "\n",
        "Apply dimensionality reduction (e.g., PCA).\n",
        "\n",
        "Use regularization (Ridge or Lasso regression).\n",
        "\n",
        "3. Ensuring a Robust Model\n",
        "\n",
        "Re-check residual diagnostics after transformations.\n",
        "\n",
        "Use cross-validation to ensure the model generalizes.\n",
        "\n",
        "Consider alternative models such as tree-based methods (Random Forest, Gradient Boosting), which are less sensitive to heteroscedasticity and multicollinearity.\n",
        "\n"
      ],
      "metadata": {
        "id": "GvnXX4wELS-y"
      }
    },
    {
      "cell_type": "code",
      "source": [
        "import pandas as pd\n",
        "import numpy as np\n",
        "import statsmodels.api as sm\n",
        "from statsmodels.stats.outliers_influence import variance_inflation_factor\n",
        "from statsmodels.stats.diagnostic import het_breuschpagan\n",
        "from sklearn.linear_model import RidgeCV, LassoCV\n",
        "from sklearn.model_selection import cross_val_score\n",
        "from sklearn.preprocessing import StandardScaler\n",
        "\n",
        "# Example dataset (replace with housing data)\n",
        "np.random.seed(42)\n",
        "df = pd.DataFrame({\n",
        "    \"area\": np.random.normal(2000, 500, 100),\n",
        "    \"rooms\": np.random.normal(5, 1.5, 100),\n",
        "    \"location_score\": np.random.normal(50, 10, 100),\n",
        "})\n",
        "# Price depends on features\n",
        "df[\"price\"] = 50000 + 150 * df[\"area\"] + 10000 * df[\"rooms\"] + 2000 * df[\"location_score\"] + np.random.normal(0, 50000, 100)\n",
        "\n",
        "# Log-transform target to reduce heteroscedasticity\n",
        "df[\"log_price\"] = np.log(df[\"price\"])\n",
        "\n",
        "# Fit OLS model\n",
        "X = df[[\"area\", \"rooms\", \"location_score\"]]\n",
        "X = sm.add_constant(X)\n",
        "y = df[\"log_price\"]\n",
        "\n",
        "ols_model = sm.OLS(y, X).fit()\n",
        "print(ols_model.summary())\n",
        "\n",
        "# Breusch–Pagan test for heteroscedasticity\n",
        "bp_test = het_breuschpagan(ols_model.resid, ols_model.model.exog)\n",
        "print(\"Breusch-Pagan test p-value:\", bp_test[1])\n",
        "\n",
        "# Check VIF for multicollinearity\n",
        "vif = pd.DataFrame()\n",
        "vif[\"feature\"] = X.columns\n",
        "vif[\"VIF\"] = [variance_inflation_factor(X.values, i) for i in range(X.shape[1])]\n",
        "print(vif)\n",
        "\n",
        "# Regularization approach\n",
        "scaler = StandardScaler()\n",
        "X_scaled = scaler.fit_transform(df[[\"area\", \"rooms\", \"location_score\"]])\n",
        "\n",
        "ridge = RidgeCV(alphas=[0.1, 1.0, 10.0], cv=5).fit(X_scaled, y)\n",
        "lasso = LassoCV(alphas=np.logspace(-4, 0, 50), cv=5).fit(X_scaled, y)\n",
        "\n",
        "print(\"Best Ridge alpha:\", ridge.alpha_)\n",
        "print(\"Best Lasso alpha:\", lasso.alpha_)\n"
      ],
      "metadata": {
        "colab": {
          "base_uri": "https://localhost:8080/"
        },
        "id": "vKx3h8jjNhCD",
        "outputId": "85e2db1b-2b8f-4c52-f070-fcfa642ebc99"
      },
      "execution_count": 12,
      "outputs": [
        {
          "output_type": "stream",
          "name": "stdout",
          "text": [
            "                            OLS Regression Results                            \n",
            "==============================================================================\n",
            "Dep. Variable:              log_price   R-squared:                       0.709\n",
            "Model:                            OLS   Adj. R-squared:                  0.700\n",
            "Method:                 Least Squares   F-statistic:                     78.00\n",
            "Date:                Sat, 30 Aug 2025   Prob (F-statistic):           1.21e-25\n",
            "Time:                        13:41:25   Log-Likelihood:                 101.34\n",
            "No. Observations:                 100   AIC:                            -194.7\n",
            "Df Residuals:                      96   BIC:                            -184.3\n",
            "Df Model:                           3                                         \n",
            "Covariance Type:            nonrobust                                         \n",
            "==================================================================================\n",
            "                     coef    std err          t      P>|t|      [0.025      0.975]\n",
            "----------------------------------------------------------------------------------\n",
            "const             12.2877      0.065    188.565      0.000      12.158      12.417\n",
            "area               0.0003   2.04e-05     13.187      0.000       0.000       0.000\n",
            "rooms              0.0151      0.006      2.379      0.019       0.003       0.028\n",
            "location_score     0.0043      0.001      5.132      0.000       0.003       0.006\n",
            "==============================================================================\n",
            "Omnibus:                        1.038   Durbin-Watson:                   1.841\n",
            "Prob(Omnibus):                  0.595   Jarque-Bera (JB):                0.977\n",
            "Skew:                          -0.040   Prob(JB):                        0.614\n",
            "Kurtosis:                       2.522   Cond. No.                     1.46e+04\n",
            "==============================================================================\n",
            "\n",
            "Notes:\n",
            "[1] Standard Errors assume that the covariance matrix of the errors is correctly specified.\n",
            "[2] The condition number is large, 1.46e+04. This might indicate that there are\n",
            "strong multicollinearity or other numerical problems.\n",
            "Breusch-Pagan test p-value: 0.1128799770825254\n",
            "          feature        VIF\n",
            "0           const  52.845952\n",
            "1            area   1.056184\n",
            "2           rooms   1.019085\n",
            "3  location_score   1.037920\n",
            "Best Ridge alpha: 1.0\n",
            "Best Lasso alpha: 0.0024420530945486497\n"
          ]
        }
      ]
    }
  ]
}